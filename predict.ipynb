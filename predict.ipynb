{
 "cells": [
  {
   "cell_type": "code",
   "execution_count": 1,
   "id": "d06b3ecc-8e34-4bd7-b571-5ec55549b34c",
   "metadata": {},
   "outputs": [],
   "source": [
    "import datetime\n",
    "import random\n",
    "import os\n",
    "import logging\n",
    "import requests"
   ]
  },
  {
   "cell_type": "code",
   "execution_count": 2,
   "id": "a8d35b8a-fef8-44f0-a239-e16aaf2e536a",
   "metadata": {},
   "outputs": [],
   "source": [
    "import numpy as np\n",
    "import pandas as pd\n",
    "import h5py as h5\n",
    "import multiprocess as mp\n",
    "import matplotlib.pyplot as plt\n",
    "from tqdm import tqdm"
   ]
  },
  {
   "cell_type": "code",
   "execution_count": 3,
   "id": "3d09439d-d1b2-4a12-a99b-fdeb87f688cd",
   "metadata": {},
   "outputs": [],
   "source": [
    "from PySpice.Probe.Plot import plot\n",
    "from PySpice.Spice.Netlist import Circuit\n",
    "from PySpice.Spice.Library import SpiceLibrary\n",
    "from PySpice.Unit import *"
   ]
  },
  {
   "cell_type": "code",
   "execution_count": 4,
   "id": "85a247c2-b384-42c9-879d-b522e173c5a1",
   "metadata": {},
   "outputs": [],
   "source": [
    "%matplotlib inline"
   ]
  },
  {
   "cell_type": "markdown",
   "id": "c8ac0c65-9d0c-4053-81ad-7c3a8f967598",
   "metadata": {},
   "source": [
    "# Primitive Device Charaterization\n",
    "\n",
    "Characterize Transistor Models with [PySpice](https://pyspice.fabrice-salvaire.fr/).\n",
    "\n",
    "## Setup"
   ]
  },
  {
   "cell_type": "code",
   "execution_count": 5,
   "id": "b07a04ff-3629-4267-822b-590a3196a479",
   "metadata": {},
   "outputs": [],
   "source": [
    "lib_path    = 'lib'\n",
    "model_base  = '90nm_bulk'\n",
    "model_file  = f'{model_base}.lib'\n",
    "model_url   = f'http://ptm.asu.edu/modelcard/2006/{model_base}.pm'\n",
    "device_name = 'nmos'\n",
    "data_file   = f'{model_base}.h5'\n",
    "data_path   = 'data'\n",
    "column_path = 'columns'\n",
    "pool_size   = 6"
   ]
  },
  {
   "cell_type": "code",
   "execution_count": 6,
   "id": "01b80b2b-25df-4376-a53f-edfd2e309a51",
   "metadata": {},
   "outputs": [],
   "source": [
    "temperature = 27\n",
    "VSS         = 0.0\n",
    "VDD         = 1.2\n",
    "step_DC     = 0.01\n",
    "min_VB      = -1.0\n",
    "step_VB     = -0.1\n",
    "min_W       = 1e-6\n",
    "max_W       = 75e-6\n",
    "num_W       = 10\n",
    "min_L       = 150e-9\n",
    "max_L       = 10e-6\n",
    "num_L       = 10"
   ]
  },
  {
   "cell_type": "markdown",
   "id": "c0edf54a-c681-4b59-9033-08b745933687",
   "metadata": {},
   "source": [
    "### Device Model\n",
    "\n",
    "For demonstration, ASU's 90nm Predictive Technology Model ([PTM](http://ptm.asu.edu/)) will be used and downloaded if not present."
   ]
  },
  {
   "cell_type": "code",
   "execution_count": 7,
   "id": "110577d3-99e7-4500-9623-c4fb60fe9ccc",
   "metadata": {},
   "outputs": [],
   "source": [
    "def setup_library (path, model, url):\n",
    "    model_path = f'./{path}/{model}'\n",
    "\n",
    "    if not os.path.isfile(model_path):\n",
    "        if not os.path.isdir(f'./{path}'):\n",
    "            os.mkdir(f'./{path}')\n",
    "\n",
    "        with open(model_path, \"wb\") as device_model:\n",
    "            req = requests.get(url, allow_redirects=True)\n",
    "            device_model.write(req.content)\n",
    "\n",
    "    return f'./{path}'"
   ]
  },
  {
   "cell_type": "code",
   "execution_count": 8,
   "id": "b51f78e6-5462-48ec-bfe4-8f493e3181a1",
   "metadata": {},
   "outputs": [],
   "source": [
    "lib = SpiceLibrary(setup_library(lib_path, model_file, model_url))"
   ]
  },
  {
   "cell_type": "markdown",
   "id": "cc277449-115c-4469-b211-0a93a8148516",
   "metadata": {},
   "source": [
    "### Testbench\n",
    "\n",
    "Set up the characterization test bench."
   ]
  },
  {
   "cell_type": "code",
   "execution_count": 9,
   "id": "0c79e7aa-ddd0-441e-b09b-119524710f84",
   "metadata": {},
   "outputs": [],
   "source": [
    "ckt = Circuit('Primitive Device Characterization')\n",
    "\n",
    "ckt.include(lib[device_name])\n",
    "\n",
    "Vd = ckt.V('d', 'D', ckt.gnd, u_V(0))\n",
    "Vg = ckt.V('g', 'G', ckt.gnd, u_V(0))\n",
    "Vb = ckt.V('b', 'B', ckt.gnd, u_V(0))\n",
    "\n",
    "M0 = ckt.MOSFET(0, 'D', 'G', ckt.gnd, 'B', model=device_name)"
   ]
  },
  {
   "cell_type": "markdown",
   "id": "41b3d351-1c3f-47e7-9e37-0f5104be9d50",
   "metadata": {},
   "source": [
    "### Parameters\n",
    "\n",
    "Specify the parameters that SPICE will save."
   ]
  },
  {
   "cell_type": "code",
   "execution_count": 10,
   "id": "67ec2f48-a4f6-49f2-9625-40de0d8e5873",
   "metadata": {},
   "outputs": [],
   "source": [
    "column_names = [ 'W',   'L' \n",
    "               , 'Vds', 'Vgs', 'Vbs', 'vth', 'vdsat'\n",
    "               , 'id',  'gbs', 'gbd', 'gds', 'gm', 'gmbs'\n",
    "               , 'cbb', 'csb', 'cdb', 'cgb'\n",
    "               , 'css', 'csd', 'csg', 'cds' \n",
    "               , 'cdd', 'cdg', 'cbs', 'cbd'\n",
    "               , 'cbg', 'cgd', 'cgs', 'cgg' ]\n",
    "\n",
    "save_params = [ f'@M0[{p.lower()}]' for p in column_names ]"
   ]
  },
  {
   "cell_type": "markdown",
   "id": "64d0b97e-d2a4-4bd4-9ed9-4949c5036351",
   "metadata": {},
   "source": [
    "### Simulator\n",
    "\n",
    "Setup the simulator with the corret `temperature` and `save parameters` as specified earlier."
   ]
  },
  {
   "cell_type": "code",
   "execution_count": 11,
   "id": "5b2c71dd-5934-41d7-a55c-d28fcd22bddc",
   "metadata": {},
   "outputs": [],
   "source": [
    "\n",
    "simulator = ckt.simulator( temperature=temperature\n",
    "                         , nominal_temperature=temperature )\n",
    "\n",
    "simulator.save_internal_parameters(*save_params)"
   ]
  },
  {
   "cell_type": "markdown",
   "id": "8231bbf0-6519-49f0-88c0-db31cf7fab62",
   "metadata": {},
   "source": [
    "A separate function is required for simulating in parallel."
   ]
  },
  {
   "cell_type": "code",
   "execution_count": 12,
   "id": "d10f9640-4c9a-4b23-87e1-afcc8494437f",
   "metadata": {},
   "outputs": [],
   "source": [
    "def sim_dc(W, L, Vbs):\n",
    "    M0.w = W\n",
    "    M0.l = L\n",
    "    Vb.dc_value = u_V(Vbs)\n",
    "\n",
    "    analysis = simulator.dc( vd=slice(VSS, VDD, step_DC)\n",
    "                           , vg=slice(VSS, VDD, step_DC))\n",
    "\n",
    "    run_data = pd.DataFrame( { p[0]: analysis[p[1]].as_ndarray() \n",
    "                               for p in zip(column_names, save_params) } )\n",
    "\n",
    "    return run_data"
   ]
  },
  {
   "cell_type": "markdown",
   "id": "f8deff60-dd0d-4078-b362-76d4dadfca92",
   "metadata": {},
   "source": [
    "Setup the sweep grid."
   ]
  },
  {
   "cell_type": "code",
   "execution_count": 13,
   "id": "059a8498-2341-4516-b2a9-c7bfa0818188",
   "metadata": {},
   "outputs": [],
   "source": [
    "sweep = [ (w,l,vbs) \n",
    "          for vbs in np.arange(0.0    , -1.0  , step=-0.1)\n",
    "          for l in np.linspace(150e-9 , 10e-6 , num=10)\n",
    "          for w in np.linspace(1e-6   , 75e-6 , num=10) ]"
   ]
  },
  {
   "cell_type": "markdown",
   "id": "682e38e0-1ad1-4b50-9911-654322abc0b2",
   "metadata": {},
   "source": [
    "### Simulation\n",
    "\n",
    "Run simulations for all input parameter combinations. Logging is disabled, because PySpice spams a warning about admittance not having a unit."
   ]
  },
  {
   "cell_type": "code",
   "execution_count": 14,
   "id": "9fcbfb5f-2707-4762-bb17-bc36a1a70456",
   "metadata": {},
   "outputs": [
    {
     "name": "stderr",
     "output_type": "stream",
     "text": [
      "100%|██████████| 1000/1000 [00:42<00:00, 23.47it/s]\n"
     ]
    }
   ],
   "source": [
    "logging.disable(logging.FATAL)\n",
    "with mp.Pool(pool_size) as pool:\n",
    "    res = tqdm( pool.imap( func=lambda s: sim_dc(*s)\n",
    "                         , iterable=sweep )\n",
    "              , total = len(sweep) )\n",
    "    results = list(res)\n",
    "logging.disable(logging.NOTSET)"
   ]
  },
  {
   "cell_type": "markdown",
   "id": "9301cdb4-4d7e-4b13-ac31-7c5f5eb2d33f",
   "metadata": {},
   "source": [
    "Concatenate the results of all simulation runs."
   ]
  },
  {
   "cell_type": "code",
   "execution_count": 15,
   "id": "dcb42757-f3db-404a-b5b4-8fde42a9fb94",
   "metadata": {},
   "outputs": [],
   "source": [
    "sim_res = pd.concat(results, ignore_index=True)"
   ]
  },
  {
   "cell_type": "markdown",
   "id": "3ce745c7-f45d-49cb-86e6-499b46091fac",
   "metadata": {},
   "source": [
    "Store data in HDF5 binary."
   ]
  },
  {
   "cell_type": "code",
   "execution_count": 16,
   "id": "3aa14f4b-942f-4097-9323-0055014a99d0",
   "metadata": {},
   "outputs": [],
   "source": [
    "with h5.File(data_file, 'w') as h5_file:\n",
    "    h5_file[data_path] = sim_res.to_numpy()\n",
    "    h5_file[column_path] = list(sim_res.columns)"
   ]
  },
  {
   "cell_type": "markdown",
   "id": "91e35fc8-c451-475e-8195-d85304338acc",
   "metadata": {},
   "source": [
    "## Plot Results\n",
    "\n",
    "After chracterization, check out some of the results. First the terminal voltages are rounded for easier filtering."
   ]
  },
  {
   "cell_type": "code",
   "execution_count": 17,
   "id": "3d653bc7-15cf-47a7-a1da-79261ccc341c",
   "metadata": {},
   "outputs": [],
   "source": [
    "sim_res.Vgs = round(sim_res.Vgs, ndigits=2)\n",
    "sim_res.Vds = round(sim_res.Vds, ndigits=2)\n",
    "sim_res.Vbs = round(sim_res.Vbs, ndigits=2)"
   ]
  },
  {
   "cell_type": "markdown",
   "id": "cbed12a4-284a-4f6a-ba55-2cd2ea18c66b",
   "metadata": {},
   "source": [
    "Extract a random trace."
   ]
  },
  {
   "cell_type": "code",
   "execution_count": 18,
   "id": "171eb333-36f2-486d-8946-82849d6f5060",
   "metadata": {},
   "outputs": [],
   "source": [
    "traces = sim_res[ (sim_res.Vbs == VSS) \n",
    "               & (sim_res.W == random.choice(sim_res.W.unique())) \n",
    "               & (sim_res.L == random.choice(sim_res.L.unique())) ]"
   ]
  },
  {
   "cell_type": "code",
   "execution_count": 19,
   "id": "1796f9b3-a7ff-414e-916a-d41ccac1413a",
   "metadata": {},
   "outputs": [
    {
     "data": {
      "text/plain": [
       "<matplotlib.legend.Legend at 0x7f9b2d4b5280>"
      ]
     },
     "execution_count": 19,
     "metadata": {},
     "output_type": "execute_result"
    },
    {
     "data": {
      "image/png": "[encoded data removed]",
      "text/plain": [
       "<Figure size 432x288 with 1 Axes>"
      ]
     },
     "metadata": {
      "needs_background": "light"
     },
     "output_type": "display_data"
    }
   ],
   "source": [
    "for v in random.sample(list(traces.Vds.unique()), 5):\n",
    "    trace = traces[(traces.Vds == v)]\n",
    "    plt.plot(trace.Vgs, trace.id, label = f'Vds = {v} V')\n",
    "plt.grid()\n",
    "plt.yscale('log')\n",
    "plt.xlabel('Vgs [V]')\n",
    "plt.ylabel('Id [A]')\n",
    "plt.title('Output Characteristic')\n",
    "plt.legend()"
   ]
  },
  {
   "cell_type": "code",
   "execution_count": 20,
   "id": "2774c10e-f903-4396-b409-a32d55e01bfa",
   "metadata": {},
   "outputs": [
    {
     "data": {
      "text/plain": [
       "<matplotlib.legend.Legend at 0x7f9b6c71dee0>"
      ]
     },
     "execution_count": 20,
     "metadata": {},
     "output_type": "execute_result"
    },
    {
     "data": {
      "image/png": "[encoded data removed]",
      "text/plain": [
       "<Figure size 432x288 with 1 Axes>"
      ]
     },
     "metadata": {
      "needs_background": "light"
     },
     "output_type": "display_data"
    }
   ],
   "source": [
    "for v in random.sample(list(traces.Vgs.unique()), 5):\n",
    "    trace = traces[(traces.Vgs == v)]\n",
    "    plt.plot(trace.Vds, trace.id, label = f'Vgs = {v} V')\n",
    "plt.grid()\n",
    "plt.xlabel('Vds [V]')\n",
    "plt.ylabel('Id [A]')\n",
    "plt.title('Transfer Characteristic')\n",
    "plt.legend()"
   ]
  },
  {
   "cell_type": "code",
   "execution_count": null,
   "id": "0bd73c03-4f3f-4013-964d-79dc4275e772",
   "metadata": {},
   "outputs": [],
   "source": []
  }
 ],
 "metadata": {
  "kernelspec": {
   "display_name": "Python 3",
   "language": "python",
   "name": "python3"
  },
  "language_info": {
   "codemirror_mode": {
    "name": "ipython",
    "version": 3
   },
   "file_extension": ".py",
   "mimetype": "text/x-python",
   "name": "python",
   "nbconvert_exporter": "python",
   "pygments_lexer": "ipython3",
   "version": "3.8.10"
  }
 },
 "nbformat": 4,
 "nbformat_minor": 5
}
